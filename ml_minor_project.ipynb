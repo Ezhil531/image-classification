{
  "nbformat": 4,
  "nbformat_minor": 0,
  "metadata": {
    "colab": {
      "name": "ml-minor-project.ipynb",
      "provenance": [],
      "collapsed_sections": [],
      "include_colab_link": true
    },
    "kernelspec": {
      "name": "python3",
      "display_name": "Python 3"
    },
    "language_info": {
      "name": "python"
    }
  },
  "cells": [
    {
      "cell_type": "markdown",
      "metadata": {
        "id": "view-in-github",
        "colab_type": "text"
      },
      "source": [
        "<a href=\"https://colab.research.google.com/github/Ezhil531/image-classification/blob/main/ml_minor_project.ipynb\" target=\"_parent\"><img src=\"https://colab.research.google.com/assets/colab-badge.svg\" alt=\"Open In Colab\"/></a>"
      ]
    },
    {
      "cell_type": "code",
      "metadata": {
        "id": "H4OcPAq6toum"
      },
      "source": [
        "!pip install streamlit --quiet\n",
        "!pip install pyngrok==4.1.1 --quiet"
      ],
      "execution_count": null,
      "outputs": []
    },
    {
      "cell_type": "code",
      "metadata": {
        "id": "AztuI7c-r4hX"
      },
      "source": [
        "#Packages\n",
        "import os\n",
        "import numpy as np\n",
        "import matplotlib.pyplot as plt\n",
        "from skimage.io import imread\n",
        "from skimage.transform import resize\n",
        "import pandas as pd\n",
        "from sklearn.model_selection import train_test_split,GridSearchCV\n",
        "from sklearn.metrics import classification_report,accuracy_score,confusion_matrix\n",
        "from sklearn import svm\n",
        "import pickle\n",
        "from pyngrok import ngrok\n",
        "from PIL import Image"
      ],
      "execution_count": null,
      "outputs": []
    },
    {
      "cell_type": "code",
      "metadata": {
        "id": "BIuEzZKusd3d",
        "colab": {
          "base_uri": "https://localhost:8080/",
          "height": 229
        },
        "outputId": "4f8c6e8a-6130-42ec-ebb3-c015982cb973"
      },
      "source": [
        "#Pre-processing\n",
        "target = []\n",
        "images = []\n",
        "flat_data = []\n",
        "\n",
        "datadir = '/content/drive/MyDrive/ML SmartKnowers/MinorProject'\n",
        "categories = ['Cricket Bat','Playing Ball']\n",
        "\n",
        "for i in categories:\n",
        "  class_num = categories.index(i)\n",
        "  path = os.path.join(datadir,i)\n",
        "  for img in os.listdir(path):\n",
        "    if img.endswith('.jpg') or img.endswith('.jpeg') or img.endswith('.png'):\n",
        "      img_arr = imread(os.path.join(path,img))\n",
        "      img_resized = resize(img_arr,(150,150,3))\n",
        "      flat_data.append(img_resized.flatten())\n",
        "      images.append(img_resized)\n",
        "      target.append(class_num)\n",
        "\n",
        "flat_data = np.array(flat_data)\n",
        "target = np.array(target)\n",
        "images = np.array(images)"
      ],
      "execution_count": null,
      "outputs": [
        {
          "output_type": "error",
          "ename": "FileNotFoundError",
          "evalue": "ignored",
          "traceback": [
            "\u001b[0;31m---------------------------------------------------------------------------\u001b[0m",
            "\u001b[0;31mFileNotFoundError\u001b[0m                         Traceback (most recent call last)",
            "\u001b[0;32m<ipython-input-8-40d373b427df>\u001b[0m in \u001b[0;36m<module>\u001b[0;34m()\u001b[0m\n\u001b[1;32m     10\u001b[0m   \u001b[0mclass_num\u001b[0m \u001b[0;34m=\u001b[0m \u001b[0mcategories\u001b[0m\u001b[0;34m.\u001b[0m\u001b[0mindex\u001b[0m\u001b[0;34m(\u001b[0m\u001b[0mi\u001b[0m\u001b[0;34m)\u001b[0m\u001b[0;34m\u001b[0m\u001b[0;34m\u001b[0m\u001b[0m\n\u001b[1;32m     11\u001b[0m   \u001b[0mpath\u001b[0m \u001b[0;34m=\u001b[0m \u001b[0mos\u001b[0m\u001b[0;34m.\u001b[0m\u001b[0mpath\u001b[0m\u001b[0;34m.\u001b[0m\u001b[0mjoin\u001b[0m\u001b[0;34m(\u001b[0m\u001b[0mdatadir\u001b[0m\u001b[0;34m,\u001b[0m\u001b[0mi\u001b[0m\u001b[0;34m)\u001b[0m\u001b[0;34m\u001b[0m\u001b[0;34m\u001b[0m\u001b[0m\n\u001b[0;32m---> 12\u001b[0;31m   \u001b[0;32mfor\u001b[0m \u001b[0mimg\u001b[0m \u001b[0;32min\u001b[0m \u001b[0mos\u001b[0m\u001b[0;34m.\u001b[0m\u001b[0mlistdir\u001b[0m\u001b[0;34m(\u001b[0m\u001b[0mpath\u001b[0m\u001b[0;34m)\u001b[0m\u001b[0;34m:\u001b[0m\u001b[0;34m\u001b[0m\u001b[0;34m\u001b[0m\u001b[0m\n\u001b[0m\u001b[1;32m     13\u001b[0m     \u001b[0;32mif\u001b[0m \u001b[0mimg\u001b[0m\u001b[0;34m.\u001b[0m\u001b[0mendswith\u001b[0m\u001b[0;34m(\u001b[0m\u001b[0;34m'.jpg'\u001b[0m\u001b[0;34m)\u001b[0m \u001b[0;32mor\u001b[0m \u001b[0mimg\u001b[0m\u001b[0;34m.\u001b[0m\u001b[0mendswith\u001b[0m\u001b[0;34m(\u001b[0m\u001b[0;34m'.jpeg'\u001b[0m\u001b[0;34m)\u001b[0m \u001b[0;32mor\u001b[0m \u001b[0mimg\u001b[0m\u001b[0;34m.\u001b[0m\u001b[0mendswith\u001b[0m\u001b[0;34m(\u001b[0m\u001b[0;34m'.png'\u001b[0m\u001b[0;34m)\u001b[0m\u001b[0;34m:\u001b[0m\u001b[0;34m\u001b[0m\u001b[0;34m\u001b[0m\u001b[0m\n\u001b[1;32m     14\u001b[0m       \u001b[0mimg_arr\u001b[0m \u001b[0;34m=\u001b[0m \u001b[0mimread\u001b[0m\u001b[0;34m(\u001b[0m\u001b[0mos\u001b[0m\u001b[0;34m.\u001b[0m\u001b[0mpath\u001b[0m\u001b[0;34m.\u001b[0m\u001b[0mjoin\u001b[0m\u001b[0;34m(\u001b[0m\u001b[0mpath\u001b[0m\u001b[0;34m,\u001b[0m\u001b[0mimg\u001b[0m\u001b[0;34m)\u001b[0m\u001b[0;34m)\u001b[0m\u001b[0;34m\u001b[0m\u001b[0;34m\u001b[0m\u001b[0m\n",
            "\u001b[0;31mFileNotFoundError\u001b[0m: [Errno 2] No such file or directory: '/content/drive/MyDrive/ML SmartKnowers/MinorProject/Cricket Bat'"
          ]
        }
      ]
    },
    {
      "cell_type": "code",
      "metadata": {
        "id": "uCQvPxlgwdex"
      },
      "source": [
        "unique, count = np.unique(target,return_counts=True)\n",
        "plt.grid()\n",
        "plt.bar(categories,count)"
      ],
      "execution_count": null,
      "outputs": []
    },
    {
      "cell_type": "code",
      "metadata": {
        "id": "ymXVke7yyXqb"
      },
      "source": [
        "#Data Spliting\n",
        "x_train,x_test,y_train,y_test = train_test_split(flat_data,target,test_size=0.2,random_state=120)"
      ],
      "execution_count": null,
      "outputs": []
    },
    {
      "cell_type": "code",
      "metadata": {
        "id": "fRXWDd0M2Jh0"
      },
      "source": [
        "param_grid = [ {'C':[1,10,100,1000],'kernel':['linear']},{'C':[1,10,100,1000],'gamma':[0.001,0.0001],'kernel':['rbf']} ]\n",
        "svc = svm.SVC(probability = True)\n",
        "clf = GridSearchCV(svc,param_grid)\n",
        "clf.fit(x_train,y_train)"
      ],
      "execution_count": null,
      "outputs": []
    },
    {
      "cell_type": "code",
      "metadata": {
        "id": "zdxZ6OS59GGi"
      },
      "source": [
        "y_pred = clf.predict(x_test)\n",
        "y_pred"
      ],
      "execution_count": null,
      "outputs": []
    },
    {
      "cell_type": "code",
      "metadata": {
        "id": "d9u14AS_-u2U"
      },
      "source": [
        "y_test"
      ],
      "execution_count": null,
      "outputs": []
    },
    {
      "cell_type": "code",
      "metadata": {
        "id": "UdehS9FH-xcX"
      },
      "source": [
        " accuracy_score(y_pred,y_test)"
      ],
      "execution_count": null,
      "outputs": []
    },
    {
      "cell_type": "code",
      "metadata": {
        "id": "rRCTPV0GKljB"
      },
      "source": [
        "confusion_matrix(y_pred,y_test)"
      ],
      "execution_count": null,
      "outputs": []
    },
    {
      "cell_type": "code",
      "metadata": {
        "id": "hrHrRi-TLrUT"
      },
      "source": [
        "pickle.dump(clf,open('ImageRecog.p','wb'))"
      ],
      "execution_count": null,
      "outputs": []
    },
    {
      "cell_type": "code",
      "metadata": {
        "id": "c4mnJhifMaa2"
      },
      "source": [
        "model = pickle.load(open('ImageRecog.p','rb'))"
      ],
      "execution_count": null,
      "outputs": []
    },
    {
      "cell_type": "code",
      "metadata": {
        "id": "iI0OQUgkM3y6"
      },
      "source": [
        "flat_data=[]\n",
        "url=input(\"Enter your URL:\")\n",
        "img = imread(url)\n",
        "img_resized=resize(img,(150,150,3))\n",
        "flat_data.append(img_resized.flatten())\n",
        "flat_data=np.array(flat_data)\n",
        "print(img.shape)\n",
        "plt.imshow(img_resized)\n",
        "y_out = model.predict(flat_data)\n",
        "print(y_out[0])\n",
        "print(type(y_out[0]))\n",
        "y_out=categories[y_out[0]]\n",
        "print(f'PREDICTED OUTPUT IS:{y_out}')"
      ],
      "execution_count": null,
      "outputs": []
    },
    {
      "cell_type": "code",
      "metadata": {
        "id": "7C8tdCCCW5Lu"
      },
      "source": [
        "%%writefile ImageClassifier.py\n",
        "import streamlit as st\n",
        "import matplotlib.pyplot as plt\n",
        "import numpy as np\n",
        "import pandas as pd\n",
        "from skimage.io import imread\n",
        "from skimage.transform import resize\n",
        "from PIL import Image\n",
        "import pickle\n",
        "\n",
        "st.title('Bat and Ball detector using M.L.')\n",
        "st.text('Upload to predict.....')\n",
        "\n",
        "model=pickle.load(open('ImageRecog.p','rb'))\n",
        "uploaded_file=st.file_uploader(\"Upload an Image:\",type=\"jpg\")\n",
        "if uploaded_file is not None:\n",
        "  img=Image.open(uploaded_file)\n",
        "  st.image(img,caption='Uploaded Image')\n",
        "  if st.button('PREDICT'):\n",
        "    categories = ['Cricket Bat','Playing Ball']\n",
        "    st.write('Result: ')\n",
        "    flat_data = []\n",
        "    img = np.array(img)\n",
        "    img_resized = resize(img,(150,150,3))\n",
        "    flat_data.append(img_resized.flatten())\n",
        "    flat_data = np.array(flat_data)\n",
        "    print(img.shape)\n",
        "    plt.imshow(img_resized)\n",
        "    y_out = model.predict(flat_data)\n",
        "    y_out = [y_out[0]]\n",
        "    st.title(f'Predicted Output Is: {categories[y_out[0]]} ')\n",
        "    percent = model.predict_proba(flat_data)\n",
        "    for index, item in enumerate(categories):\n",
        "      st.write(f'{ item } : {percent[0][index]*100}%')\n"
      ],
      "execution_count": null,
      "outputs": []
    },
    {
      "cell_type": "code",
      "metadata": {
        "id": "bB-Lu6GHxahk"
      },
      "source": [
        "!nohup streamlit run ImageClassifier.py &\n",
        "\n",
        "url = ngrok.connect(port='8501')\n",
        "print(url)"
      ],
      "execution_count": null,
      "outputs": []
    }
  ]
}