{
  "nbformat": 4,
  "nbformat_minor": 0,
  "metadata": {
    "colab": {
      "name": "ml-minor-project.ipynb",
      "provenance": [],
      "collapsed_sections": [],
      "include_colab_link": true
    },
    "kernelspec": {
      "name": "python3",
      "display_name": "Python 3"
    },
    "language_info": {
      "name": "python"
    }
  },
  "cells": [
    {
      "cell_type": "markdown",
      "metadata": {
        "id": "view-in-github",
        "colab_type": "text"
      },
      "source": [
        "<a href=\"https://colab.research.google.com/github/Ezhil531/image-classification/blob/main/ml_minor_project.ipynb\" target=\"_parent\"><img src=\"https://colab.research.google.com/assets/colab-badge.svg\" alt=\"Open In Colab\"/></a>"
      ]
    },
    {
      "cell_type": "code",
      "metadata": {
        "id": "H4OcPAq6toum"
      },
      "source": [
        "!pip install streamlit --quiet\n",
        "!pip install pyngrok==4.1.1 --quiet"
      ],
      "execution_count": 17,
      "outputs": []
    },
    {
      "cell_type": "code",
      "metadata": {
        "colab": {
          "base_uri": "https://localhost:8080/"
        },
        "id": "OIxZ4T-uLenO",
        "outputId": "2ce41b6b-e99e-4699-8949-b6a8bd591a49"
      },
      "source": [
        "!pip install bing-image-downloader"
      ],
      "execution_count": 12,
      "outputs": [
        {
          "output_type": "stream",
          "text": [
            "Collecting bing-image-downloader\n",
            "  Downloading https://files.pythonhosted.org/packages/c2/04/1872a689a30036aa0b81ac9fca124a7413cad71fdab714f727cf1a34b671/bing_image_downloader-1.1.1-py3-none-any.whl\n",
            "Installing collected packages: bing-image-downloader\n",
            "Successfully installed bing-image-downloader-1.1.1\n"
          ],
          "name": "stdout"
        }
      ]
    },
    {
      "cell_type": "code",
      "metadata": {
        "colab": {
          "base_uri": "https://localhost:8080/"
        },
        "id": "O6ssN7eTLLxr",
        "outputId": "c478ccb3-52bf-41e0-8484-3b0695aef01e"
      },
      "source": [
        "!mkdir images"
      ],
      "execution_count": 16,
      "outputs": [
        {
          "output_type": "stream",
          "text": [
            "mkdir: cannot create directory ‘images’: File exists\n"
          ],
          "name": "stdout"
        }
      ]
    },
    {
      "cell_type": "code",
      "metadata": {
        "colab": {
          "base_uri": "https://localhost:8080/"
        },
        "id": "t5jgKxomLPgX",
        "outputId": "036782f3-8fcc-4903-f5c4-c01117f75ad3"
      },
      "source": [
        "from bing_image_downloader import downloader\n",
        "downloader.download(\"Cricket Bat\",limit=30,output_dir='images',adult_filter_off=True)"
      ],
      "execution_count": 14,
      "outputs": [
        {
          "output_type": "stream",
          "text": [
            "[%] Downloading Images to /content/images/Cricket Bat\n",
            "\n",
            "\n",
            "[!!]Indexing page: 1\n",
            "\n",
            "[%] Indexed 30 Images on Page 1.\n",
            "\n",
            "===============================================\n",
            "\n",
            "[%] Downloading Image #1 from https://n3.sdlcdn.com/imgs/g/r/s/spartan-blue-popular-willow-cricket-SDL568742857-1-ccf26.jpeg\n",
            "[%] File Downloaded !\n",
            "\n",
            "[%] Downloading Image #2 from https://n2.sdlcdn.com/imgs/i/x/b/Popular-willow-cricket-bat-Market-SDL943524258-1-2348e.jpeg\n",
            "[%] File Downloaded !\n",
            "\n",
            "[%] Downloading Image #3 from https://n2.sdlcdn.com/imgs/h/8/3/Strauss-English-Willow-Cricket-Bat-SDL263160843-2-e975d.jpeg\n",
            "[%] File Downloaded !\n",
            "\n",
            "[%] Downloading Image #4 from https://n4.sdlcdn.com/imgs/i/9/l/BMD-POPLER-WELLOW-CRICKET-BAT-SDL196099538-1-cf279.jpeg\n",
            "[%] File Downloaded !\n",
            "\n",
            "[%] Downloading Image #5 from https://www.talentcricket.co.uk/images/custom/newberyinvictusbat192__size-800-0.jpg\n",
            "[%] File Downloaded !\n",
            "\n",
            "[%] Downloading Image #6 from https://n4.sdlcdn.com/imgs/j/b/n/cricket-bat-SDL597858602-1-ce327.jpg\n",
            "[%] File Downloaded !\n",
            "\n",
            "[%] Downloading Image #7 from https://n3.sdlcdn.com/imgs/i/g/x/Strauss-English-Willow-Cricket-Bat-SDL886371697-2-08b13.jpeg\n",
            "[%] File Downloaded !\n",
            "\n",
            "[%] Downloading Image #8 from https://n3.sdlcdn.com/imgs/i/3/g/LenWave-Kashmir-Willow-Cricket-Bat-SDL366288239-4-c01e4.jpeg\n",
            "[%] File Downloaded !\n",
            "\n",
            "[%] Downloading Image #9 from https://n3.sdlcdn.com/imgs/i/h/e/CEAT-KASHMIR-WILLOW-CRICKET-BAT-SDL023104939-1-7c8bd.jpeg\n",
            "[%] File Downloaded !\n",
            "\n",
            "[%] Downloading Image #10 from https://n1.sdlcdn.com/imgs/f/u/t/kks-flameback-masters-cricket-bat-SDL340031809-3-9da56.jpg\n",
            "[%] File Downloaded !\n",
            "\n",
            "[%] Downloading Image #11 from https://n1.sdlcdn.com/imgs/f/e/u/Puma-Evospeed-1-Cricket-Bat-SDL293036791-2-357b1.jpg\n",
            "[%] File Downloaded !\n",
            "\n",
            "[%] Downloading Image #12 from https://n2.sdlcdn.com/imgs/h/h/0/English-Willow-Cricket-Bat-Super-SDL149973619-1-328ff.jpg\n",
            "[%] File Downloaded !\n",
            "\n",
            "[%] Downloading Image #13 from https://n2.sdlcdn.com/imgs/g/i/f/Kashmir-Willow-Cricket-Bat-SDL049542430-1-cf699.jpeg\n",
            "[%] File Downloaded !\n",
            "\n",
            "[%] Downloading Image #14 from https://n2.sdlcdn.com/imgs/g/k/i/W-sports-Best-Quality-Natural-SDL602621706-1-42dbd.jpg\n",
            "[%] File Downloaded !\n",
            "\n",
            "[%] Downloading Image #15 from https://n1.sdlcdn.com/imgs/f/b/q/KKS-Popular-Willow-Cricket-Bat-SDL203846664-1-2f0a9.jpg\n",
            "[%] File Downloaded !\n",
            "\n",
            "[%] Downloading Image #16 from https://cricketshop.co.za/wp-content/uploads/2019/04/BAS-Vampire-Legend-Gold-Cricket-Bat-100248S.jpg\n",
            "[%] File Downloaded !\n",
            "\n",
            "[%] Downloading Image #17 from https://n4.sdlcdn.com/imgs/g/6/k/ABS-TOP-Grains-English-Willow-SDL507924939-3-6c5a0.jpeg\n",
            "[%] File Downloaded !\n",
            "\n",
            "[%] Downloading Image #18 from https://n1.sdlcdn.com/imgs/j/b/n/cricket-bat-SDL969661030-2-cf735.jpg\n",
            "[%] File Downloaded !\n",
            "\n",
            "[%] Downloading Image #19 from http://files.websitebuilder.prositehosting.co.uk/fasthosts25824/image/ssorange.jpg\n",
            "[%] File Downloaded !\n",
            "\n",
            "[%] Downloading Image #20 from https://n4.sdlcdn.com/imgs/b/s/r/SS-Soft-Pro-Cricket-Bat-SDL208754933-1-5adc9.jpg\n",
            "[%] File Downloaded !\n",
            "\n",
            "[%] Downloading Image #21 from https://n2.sdlcdn.com/imgs/a/s/6/Puma-Kashmir-Willow-Cricket-Bat-SDL010743540-1-d1617.jpg\n",
            "[%] File Downloaded !\n",
            "\n",
            "[%] Downloading Image #22 from https://n4.sdlcdn.com/imgs/e/9/e/Gm-Purist-101-Kashmir-Willow-SDL844199696-1-4611f.jpg\n",
            "[%] File Downloaded !\n",
            "\n",
            "[%] Downloading Image #23 from https://n3.sdlcdn.com/imgs/b/v/z/Sunley-Juniour-Cricket-Bat-SDL792866138-1-76b44.JPG\n",
            "[%] File Downloaded !\n",
            "\n",
            "[%] Downloading Image #24 from https://n3.sdlcdn.com/imgs/b/x/k/Osprey-Poplar-Willow-Cricket-Bat-SDL547380497-3-f6048.jpg\n",
            "[%] File Downloaded !\n",
            "\n",
            "[%] Downloading Image #25 from https://n2.sdlcdn.com/imgs/f/s/i/instyler-Stroke-Size-4-Cricket-SDL142530945-1-c8c8f.jpg\n",
            "[%] File Downloaded !\n",
            "\n",
            "[%] Downloading Image #26 from https://n4.sdlcdn.com/imgs/b/y/j/GAS-Tapto-Cricket-Bat-SDL393751761-1-c592e.jpg\n",
            "[%] File Downloaded !\n",
            "\n",
            "[%] Downloading Image #27 from https://n2.sdlcdn.com/imgs/i/9/e/cricket-bat-SDL694681144-2-e84f8.jpg\n",
            "[%] File Downloaded !\n",
            "\n",
            "[%] Downloading Image #28 from https://files.websitebuilder.prositehosting.co.uk/65/23/6523b3da-4d78-40a5-a03c-64b43e28bfb9.jpg\n",
            "[%] File Downloaded !\n",
            "\n",
            "[%] Downloading Image #29 from https://n1.sdlcdn.com/imgs/h/o/v/gp-kashmir-willow-cricket-bat-SDL292385902-1-47355.jpeg\n",
            "[%] File Downloaded !\n",
            "\n",
            "[%] Downloading Image #30 from https://n2.sdlcdn.com/imgs/f/x/q/Cricket-bat-SDL495813378-1-e8fa4.jpeg\n",
            "[%] File Downloaded !\n",
            "\n",
            "\n",
            "\n",
            "[%] Done. Downloaded 30 images.\n",
            "===============================================\n",
            "\n",
            "Please show your support here\n",
            "https://www.buymeacoffee.com/gurugaurav\n",
            "\n",
            "===============================================\n",
            "\n"
          ],
          "name": "stdout"
        }
      ]
    },
    {
      "cell_type": "code",
      "metadata": {
        "colab": {
          "base_uri": "https://localhost:8080/"
        },
        "id": "Utyaf0p1Lm97",
        "outputId": "6df28085-83f5-460a-90f6-c62006eea048"
      },
      "source": [
        "from bing_image_downloader import downloader\n",
        "downloader.download(\"Playing Ball\",limit=30,output_dir='images',adult_filter_off=True)"
      ],
      "execution_count": 15,
      "outputs": [
        {
          "output_type": "stream",
          "text": [
            "[%] Downloading Images to /content/images/Playing Ball\n",
            "\n",
            "\n",
            "[!!]Indexing page: 1\n",
            "\n",
            "[%] Indexed 30 Images on Page 1.\n",
            "\n",
            "===============================================\n",
            "\n",
            "[%] Downloading Image #1 from https://i.pinimg.com/originals/c2/62/8e/c2628e0a0cd5d87e91bf56139ac506e4.jpg\n",
            "[%] File Downloaded !\n",
            "\n",
            "[%] Downloading Image #2 from https://i.pinimg.com/originals/8f/d6/20/8fd62045f5e27fb62ee5eb13bc5fe17e.jpg\n",
            "[%] File Downloaded !\n",
            "\n",
            "[%] Downloading Image #3 from https://api.awishcometrue.com/Data/Media/c32bee95-6373-41fd-aa30-af59686b098213980_B.jpg\n",
            "[%] File Downloaded !\n",
            "\n",
            "[%] Downloading Image #4 from https://i.pinimg.com/736x/a6/b1/02/a6b102b70b556f62c861bab922bb93f1--jazz-costumes-costume-ideas.jpg\n",
            "[%] File Downloaded !\n",
            "\n",
            "[%] Downloading Image #5 from https://i.pinimg.com/474x/5c/3d/d3/5c3dd3470bb9e23b17c5727b39996d31--frisbee-my-girl.jpg\n",
            "[%] File Downloaded !\n",
            "\n",
            "[%] Downloading Image #6 from https://onceuponadiamondmovie.com/wp-content/uploads/2020/01/Dean-Corson-batting-6-e1579482293374.jpg\n",
            "[%] File Downloaded !\n",
            "\n",
            "[%] Downloading Image #7 from https://api.macaronikid.com/assets/uploads/width_1200,height_840,crop_true/ccdbdc06-fc74-402f-86d8-a443dd9ce97b.jpg\n",
            "[%] File Downloaded !\n",
            "\n",
            "[%] Downloading Image #8 from https://www.heyuguys.com/images/2017/06/dodgeball-reunion-omaze-ben-stiller.jpg\n",
            "[%] File Downloaded !\n",
            "\n",
            "[%] Downloading Image #9 from https://lh6.googleusercontent.com/proxy/5yJZMqGmrr0BOqU9vhAGcrZ8qzVbVhEVaLLiF1MqgW4f_g0Qjc5OLstEVWY4PRd9N3_D61YGnjjm68s5-AxgmiZV8v8rCWL048OtfbSc6cK6x_hB=w1200-h630-p-k-no-nu\n",
            "[%] File Downloaded !\n",
            "\n",
            "[%] Downloading Image #10 from https://cdn.vox-cdn.com/thumbor/07cd3G4I5gKPu8mYVQKtfYgXQQk=/0x298:3165x2078/1600x900/cdn.vox-cdn.com/uploads/chorus_image/image/55722189/usa_today_10154924.0.jpg\n",
            "[%] File Downloaded !\n",
            "\n",
            "[%] Downloading Image #11 from https://3pointsforawin.com/wp-content/uploads/2021/01/NINTCHDBPICT000621453914-e1606815249143-scaled.jpg\n",
            "[!] Issue getting: https://3pointsforawin.com/wp-content/uploads/2021/01/NINTCHDBPICT000621453914-e1606815249143-scaled.jpg\n",
            "[!] Error:: HTTP Error 520: \n",
            "[%] Downloading Image #11 from https://thecommvoice.com/wp-content/uploads/2018/04/20170913_190335.jpg\n",
            "[%] File Downloaded !\n",
            "\n",
            "[%] Downloading Image #12 from https://i.ytimg.com/vi/LHB-LK-26Ho/maxresdefault.jpg\n",
            "[%] File Downloaded !\n",
            "\n",
            "[%] Downloading Image #13 from https://i.pinimg.com/736x/17/bf/f9/17bff9053ad85b0f8a78d3f2309310f9.jpg\n",
            "[%] File Downloaded !\n",
            "\n",
            "[%] Downloading Image #14 from https://i.pinimg.com/originals/35/4c/d5/354cd5f2de33df4584c59e4498892d16.jpg\n",
            "[%] File Downloaded !\n",
            "\n",
            "[%] Downloading Image #15 from https://i.ytimg.com/vi/zxlZ5fqDI0s/maxresdefault.jpg\n",
            "[%] File Downloaded !\n",
            "\n",
            "[%] Downloading Image #16 from https://npr.brightspotcdn.com/dims4/default/26d886d/2147483647/strip/true/crop/433x675+0+0/resize/880x1372!/quality/90/?url=http:%2F%2Fnpr-brightspot.s3.amazonaws.com%2F3c%2F9f%2Fe594df794c1ea8a293cb7d599891%2Fdiamond.jpg\n",
            "[%] File Downloaded !\n",
            "\n",
            "[%] Downloading Image #17 from https://pbs.twimg.com/media/B8A9KhHCAAAJGqq.jpg\n",
            "[%] File Downloaded !\n",
            "\n",
            "[%] Downloading Image #18 from https://i2.wp.com/www.dailyrepublic.com/files/2014/11/16-Pee-Wee-Football-SR-11.jpg\n",
            "[%] File Downloaded !\n",
            "\n",
            "[%] Downloading Image #19 from https://s2.dmcdn.net/v/T3abR1WrSK2tJrkEJ/x720\n",
            "[Error]Invalid image, not saving https://s2.dmcdn.net/v/T3abR1WrSK2tJrkEJ/x720\n",
            "\n",
            "[!] Issue getting: https://s2.dmcdn.net/v/T3abR1WrSK2tJrkEJ/x720\n",
            "[!] Error:: Invalid image, not saving https://s2.dmcdn.net/v/T3abR1WrSK2tJrkEJ/x720\n",
            "\n",
            "[%] Downloading Image #19 from https://ewscripps.brightspotcdn.com/dims4/default/1a1aec6/2147483647/strip/true/crop/1522x856+9+0/resize/1280x720!/quality/90/?url=http:%2F%2Fewscripps-brightspot.s3.amazonaws.com%2Fa5%2F4c%2Fe349957040c9a70f8c992a499c04%2Fmattingly.jpg\n",
            "[%] File Downloaded !\n",
            "\n",
            "[%] Downloading Image #20 from http://sportslifetale.com/wp-content/uploads/2018/12/csportfotolebron-james-lonzo-ball-1.jpg\n",
            "[%] File Downloaded !\n",
            "\n",
            "[%] Downloading Image #21 from https://lonzowire.usatoday.com/wp-content/uploads/sites/40/2019/03/gettyimages-1074386018.jpg?w=1000&amp;h=600&amp;crop=1\n",
            "[%] File Downloaded !\n",
            "\n",
            "[%] Downloading Image #22 from https://i.pinimg.com/474x/c7/20/ca/c720ca7cb127a8d04d5ece63aa2dcc03--christmas-movies-list-christmas-vacation.jpg\n",
            "[%] File Downloaded !\n",
            "\n",
            "[%] Downloading Image #23 from https://i.pinimg.com/originals/ae/01/e5/ae01e57d051da32b9dd55a83866a7e54.jpg\n",
            "[%] File Downloaded !\n",
            "\n",
            "[%] Downloading Image #24 from http://cdn.chatsports.com/thumbnails/3976-89679-original.jpeg\n",
            "[%] File Downloaded !\n",
            "\n",
            "[%] Downloading Image #25 from https://www.vintagegradedbaseballcards.com/wp-content/uploads/2014/05/1939PlayBallWilliams.jpg\n",
            "[%] File Downloaded !\n",
            "\n",
            "[%] Downloading Image #26 from https://i.pinimg.com/originals/e9/d9/94/e9d994b7c80ae1523622ec2a2f6925fa.jpg\n",
            "[%] File Downloaded !\n",
            "\n",
            "[%] Downloading Image #27 from https://www.nicoandlala.com/wp-content/uploads/2018/04/Backyard-Mini-Golf-for-Kids-Masters-Party.jpg\n",
            "[%] File Downloaded !\n",
            "\n",
            "[%] Downloading Image #28 from https://sportslifetale.com/wp-content/uploads/2019/04/csportfotolonzo-ball-lebron-james-cropped_3oku01pch0ol1cx9hro5ufg1f-1210x642.jpg\n",
            "[%] File Downloaded !\n",
            "\n",
            "\n",
            "\n",
            "[!!]Indexing page: 2\n",
            "\n",
            "[%] Indexed 35 Images on Page 2.\n",
            "\n",
            "===============================================\n",
            "\n",
            "[%] Downloading Image #29 from https://i.pinimg.com/originals/c2/62/8e/c2628e0a0cd5d87e91bf56139ac506e4.jpg\n",
            "[%] File Downloaded !\n",
            "\n",
            "[%] Downloading Image #30 from https://i.pinimg.com/originals/8f/d6/20/8fd62045f5e27fb62ee5eb13bc5fe17e.jpg\n",
            "[%] File Downloaded !\n",
            "\n",
            "\n",
            "\n",
            "[%] Done. Downloaded 30 images.\n",
            "===============================================\n",
            "\n",
            "Please show your support here\n",
            "https://www.buymeacoffee.com/gurugaurav\n",
            "\n",
            "===============================================\n",
            "\n"
          ],
          "name": "stdout"
        }
      ]
    },
    {
      "cell_type": "code",
      "metadata": {
        "id": "AztuI7c-r4hX"
      },
      "source": [
        "#Packages\n",
        "import os\n",
        "import numpy as np\n",
        "import matplotlib.pyplot as plt\n",
        "from skimage.io import imread\n",
        "from skimage.transform import resize\n",
        "import pandas as pd\n",
        "from sklearn.model_selection import train_test_split,GridSearchCV\n",
        "from sklearn.metrics import classification_report,accuracy_score,confusion_matrix\n",
        "from sklearn import svm\n",
        "import pickle\n",
        "from pyngrok import ngrok\n",
        "from PIL import Image"
      ],
      "execution_count": null,
      "outputs": []
    },
    {
      "cell_type": "code",
      "metadata": {
        "id": "BIuEzZKusd3d"
      },
      "source": [
        "#Pre-processing\n",
        "target = []\n",
        "images = []\n",
        "flat_data = []\n",
        "\n",
        "datadir = '/content/images'\n",
        "categories = ['Cricket Bat','Playing Ball']\n",
        "\n",
        "for i in categories:\n",
        "  class_num = categories.index(i)\n",
        "  path = os.path.join(datadir,i)\n",
        "  for img in os.listdir(path):\n",
        "    if img.endswith('.jpg') or img.endswith('.jpeg') or img.endswith('.png'):\n",
        "      img_arr = imread(os.path.join(path,img))\n",
        "      img_resized = resize(img_arr,(150,150,3))\n",
        "      flat_data.append(img_resized.flatten())\n",
        "      images.append(img_resized)\n",
        "      target.append(class_num)\n",
        "\n",
        "flat_data = np.array(flat_data)\n",
        "target = np.array(target)\n",
        "images = np.array(images)"
      ],
      "execution_count": 18,
      "outputs": []
    },
    {
      "cell_type": "code",
      "metadata": {
        "id": "uCQvPxlgwdex"
      },
      "source": [
        "unique, count = np.unique(target,return_counts=True)\n",
        "plt.grid()\n",
        "plt.bar(categories,count)"
      ],
      "execution_count": null,
      "outputs": []
    },
    {
      "cell_type": "code",
      "metadata": {
        "id": "ymXVke7yyXqb"
      },
      "source": [
        "#Data Spliting\n",
        "x_train,x_test,y_train,y_test = train_test_split(flat_data,target,test_size=0.2,random_state=120)"
      ],
      "execution_count": null,
      "outputs": []
    },
    {
      "cell_type": "code",
      "metadata": {
        "id": "fRXWDd0M2Jh0"
      },
      "source": [
        "param_grid = [ {'C':[1,10,100,1000],'kernel':['linear']},{'C':[1,10,100,1000],'gamma':[0.001,0.0001],'kernel':['rbf']} ]\n",
        "svc = svm.SVC(probability = True)\n",
        "clf = GridSearchCV(svc,param_grid)\n",
        "clf.fit(x_train,y_train)"
      ],
      "execution_count": null,
      "outputs": []
    },
    {
      "cell_type": "code",
      "metadata": {
        "id": "zdxZ6OS59GGi"
      },
      "source": [
        "y_pred = clf.predict(x_test)\n",
        "y_pred"
      ],
      "execution_count": null,
      "outputs": []
    },
    {
      "cell_type": "code",
      "metadata": {
        "id": "d9u14AS_-u2U"
      },
      "source": [
        "y_test"
      ],
      "execution_count": null,
      "outputs": []
    },
    {
      "cell_type": "code",
      "metadata": {
        "id": "UdehS9FH-xcX"
      },
      "source": [
        " accuracy_score(y_pred,y_test)"
      ],
      "execution_count": null,
      "outputs": []
    },
    {
      "cell_type": "code",
      "metadata": {
        "id": "rRCTPV0GKljB"
      },
      "source": [
        "confusion_matrix(y_pred,y_test)"
      ],
      "execution_count": null,
      "outputs": []
    },
    {
      "cell_type": "code",
      "metadata": {
        "id": "hrHrRi-TLrUT"
      },
      "source": [
        "pickle.dump(clf,open('ImageRecog.p','wb'))"
      ],
      "execution_count": null,
      "outputs": []
    },
    {
      "cell_type": "code",
      "metadata": {
        "id": "c4mnJhifMaa2"
      },
      "source": [
        "model = pickle.load(open('ImageRecog.p','rb'))"
      ],
      "execution_count": null,
      "outputs": []
    },
    {
      "cell_type": "code",
      "metadata": {
        "id": "iI0OQUgkM3y6"
      },
      "source": [
        "flat_data=[]\n",
        "url=input(\"Enter your URL:\")\n",
        "img = imread(url)\n",
        "img_resized=resize(img,(150,150,3))\n",
        "flat_data.append(img_resized.flatten())\n",
        "flat_data=np.array(flat_data)\n",
        "print(img.shape)\n",
        "plt.imshow(img_resized)\n",
        "y_out = model.predict(flat_data)\n",
        "print(y_out[0])\n",
        "print(type(y_out[0]))\n",
        "y_out=categories[y_out[0]]\n",
        "print(f'PREDICTED OUTPUT IS:{y_out}')"
      ],
      "execution_count": null,
      "outputs": []
    },
    {
      "cell_type": "code",
      "metadata": {
        "id": "7C8tdCCCW5Lu"
      },
      "source": [
        "%%writefile ImageClassifier.py\n",
        "import streamlit as st\n",
        "import matplotlib.pyplot as plt\n",
        "import numpy as np\n",
        "import pandas as pd\n",
        "from skimage.io import imread\n",
        "from skimage.transform import resize\n",
        "from PIL import Image\n",
        "import pickle\n",
        "\n",
        "st.title('Bat and Ball detector using M.L.')\n",
        "st.text('Upload to predict.....')\n",
        "\n",
        "model=pickle.load(open('ImageRecog.p','rb'))\n",
        "uploaded_file=st.file_uploader(\"Upload an Image:\",type=\"jpg\")\n",
        "if uploaded_file is not None:\n",
        "  img=Image.open(uploaded_file)\n",
        "  st.image(img,caption='Uploaded Image')\n",
        "  if st.button('PREDICT'):\n",
        "    categories = ['Cricket Bat','Playing Ball']\n",
        "    st.write('Result: ')\n",
        "    flat_data = []\n",
        "    img = np.array(img)\n",
        "    img_resized = resize(img,(150,150,3))\n",
        "    flat_data.append(img_resized.flatten())\n",
        "    flat_data = np.array(flat_data)\n",
        "    print(img.shape)\n",
        "    plt.imshow(img_resized)\n",
        "    y_out = model.predict(flat_data)\n",
        "    y_out = [y_out[0]]\n",
        "    st.title(f'Predicted Output Is: {categories[y_out[0]]} ')\n",
        "    percent = model.predict_proba(flat_data)\n",
        "    for index, item in enumerate(categories):\n",
        "      st.write(f'{ item } : {percent[0][index]*100}%')\n"
      ],
      "execution_count": null,
      "outputs": []
    },
    {
      "cell_type": "code",
      "metadata": {
        "id": "bB-Lu6GHxahk"
      },
      "source": [
        "!nohup streamlit run ImageClassifier.py &\n",
        "\n",
        "url = ngrok.connect(port='8501')\n",
        "print(url)"
      ],
      "execution_count": null,
      "outputs": []
    }
  ]
}